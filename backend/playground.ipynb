{
 "cells": [
  {
   "cell_type": "code",
   "execution_count": 13,
   "metadata": {},
   "outputs": [
    {
     "name": "stderr",
     "output_type": "stream",
     "text": [
      "/Users/obimka/opt/anaconda3/envs/fullstack/lib/python3.10/site-packages/neo4j/time/__init__.py:144: RuntimeWarning: coroutine 'HTML.arender' was never awaited\n",
      "  DAYS_IN_MONTH = {(year, month): _days_in_month(year, month)\n",
      "RuntimeWarning: Enable tracemalloc to get the object allocation traceback\n"
     ]
    }
   ],
   "source": [
    "from app.db.models import *\n",
    "from app.db.graph_conn import *\n",
    "from gqlalchemy import match\n",
    "from gqlalchemy import Memgraph, Node, Relationship"
   ]
  },
  {
   "cell_type": "code",
   "execution_count": 14,
   "metadata": {},
   "outputs": [
    {
     "name": "stdout",
     "output_type": "stream",
     "text": [
      "Connecting to graph database...\n"
     ]
    }
   ],
   "source": [
    "graph = GraphConnClass(\"localhost\", 7687, \"\", \"\")"
   ]
  },
  {
   "cell_type": "code",
   "execution_count": 17,
   "metadata": {},
   "outputs": [
    {
     "data": {
      "text/plain": [
       "{'nodes': [{'id': 100, 'label': 'Person', 'name': 'Daniel'},\n",
       "  {'id': 101, 'label': 'Person', 'name': 'Alex'},\n",
       "  {'id': 102, 'label': 'Person', 'name': 'Sarah'},\n",
       "  {'id': 103, 'label': 'Person', 'name': 'Mia'},\n",
       "  {'id': 104, 'label': 'Person', 'name': 'Lucy'},\n",
       "  {'id': 100, 'label': 'Person', 'name': 'Daniel'},\n",
       "  {'id': 101, 'label': 'Person', 'name': 'Alex'},\n",
       "  {'id': 102, 'label': 'Person', 'name': 'Sarah'},\n",
       "  {'id': 103, 'label': 'Person', 'name': 'Mia'},\n",
       "  {'id': 104, 'label': 'Person', 'name': 'Lucy'}],\n",
       " 'links': [{'source': 0, 'target': 1},\n",
       "  {'source': 0, 'target': 1},\n",
       "  {'source': 5, 'target': 1},\n",
       "  {'source': 1, 'target': 2},\n",
       "  {'source': 4, 'target': 2},\n",
       "  {'source': 4, 'target': 2},\n",
       "  {'source': 1, 'target': 2},\n",
       "  {'source': 6, 'target': 2},\n",
       "  {'source': 4, 'target': 2},\n",
       "  {'source': 9, 'target': 2},\n",
       "  {'source': 4, 'target': 2},\n",
       "  {'source': 9, 'target': 2},\n",
       "  {'source': 2, 'target': 4},\n",
       "  {'source': 3, 'target': 4},\n",
       "  {'source': 2, 'target': 4},\n",
       "  {'source': 7, 'target': 4},\n",
       "  {'source': 3, 'target': 4},\n",
       "  {'source': 8, 'target': 4},\n",
       "  {'source': 0, 'target': 6},\n",
       "  {'source': 5, 'target': 6},\n",
       "  {'source': 1, 'target': 7},\n",
       "  {'source': 6, 'target': 7},\n",
       "  {'source': 4, 'target': 7},\n",
       "  {'source': 9, 'target': 7},\n",
       "  {'source': 4, 'target': 7},\n",
       "  {'source': 9, 'target': 7},\n",
       "  {'source': 2, 'target': 9},\n",
       "  {'source': 7, 'target': 9},\n",
       "  {'source': 3, 'target': 9},\n",
       "  {'source': 8, 'target': 9}]}"
      ]
     },
     "execution_count": 17,
     "metadata": {},
     "output_type": "execute_result"
    }
   ],
   "source": [
    "graph.get_whole_graph()"
   ]
  },
  {
   "cell_type": "code",
   "execution_count": 15,
   "metadata": {},
   "outputs": [],
   "source": [
    "# response = next(graph.execute_and_fetch(\"MATCH (n)-[r]->(m) RETURN n, r, m LIMIT 100\"))\n",
    "response = graph.execute_and_fetch(\"MATCH (n)-[r]->(m) RETURN n, r, m LIMIT 100\")"
   ]
  },
  {
   "cell_type": "code",
   "execution_count": 16,
   "metadata": {},
   "outputs": [
    {
     "data": {
      "text/plain": [
       "<generator object MemgraphConnection.execute_and_fetch at 0x7fb0708b1a80>"
      ]
     },
     "execution_count": 16,
     "metadata": {},
     "output_type": "execute_result"
    }
   ],
   "source": [
    "response"
   ]
  },
  {
   "cell_type": "code",
   "execution_count": null,
   "metadata": {},
   "outputs": [],
   "source": [
    "nodes = []\n",
    "relationships = []\n",
    "\n",
    "for res in response:\n",
    "    for key in res.keys():\n",
    "        if res[key].__class__ == Relationship:\n",
    "            relationships.append({\"source\": res[key]._start_node_id, \"target\": res[key]._end_node_id})\n",
    "        else:\n",
    "            nodes.append(dict({\"id\": res[key]._id, \"label\": list(res[key]._labels)[0]}, **res[key]._properties))"
   ]
  },
  {
   "cell_type": "code",
   "execution_count": 33,
   "metadata": {},
   "outputs": [],
   "source": [
    "def get_graph_from_query():\n",
    "    pass"
   ]
  },
  {
   "cell_type": "code",
   "execution_count": null,
   "metadata": {},
   "outputs": [],
   "source": [
    "from gqlalchemy.transformations.translators.nx_translator import NxTranslator\n",
    "\n",
    "translator = NxTranslator()\n",
    "obtained_graph = translator.get_instance()\n",
    "\n",
    "print(obtained_graph.number_of_edges())\n",
    "print(obtained_graph.number_of_nodes())"
   ]
  }
 ],
 "metadata": {
  "kernelspec": {
   "display_name": "fullstack",
   "language": "python",
   "name": "python3"
  },
  "language_info": {
   "codemirror_mode": {
    "name": "ipython",
    "version": 3
   },
   "file_extension": ".py",
   "mimetype": "text/x-python",
   "name": "python",
   "nbconvert_exporter": "python",
   "pygments_lexer": "ipython3",
   "version": "3.10.10"
  },
  "orig_nbformat": 4
 },
 "nbformat": 4,
 "nbformat_minor": 2
}
